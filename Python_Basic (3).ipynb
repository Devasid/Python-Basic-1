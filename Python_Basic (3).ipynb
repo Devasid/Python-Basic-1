{
  "nbformat": 4,
  "nbformat_minor": 0,
  "metadata": {
    "colab": {
      "provenance": []
    },
    "kernelspec": {
      "name": "python3",
      "display_name": "Python 3"
    },
    "language_info": {
      "name": "python"
    }
  },
  "cells": [
    {
      "cell_type": "markdown",
      "source": [
        "  Answers"
      ],
      "metadata": {
        "id": "uDkoWH4TWZPh"
      }
    },
    {
      "cell_type": "markdown",
      "source": [
        "1. What is Python, and why is it popular?\n",
        "   > Python is a high-level, interpreted, object-oriented programming language known for its readability and ease of use. It was created by Guido van Rossum and first released in 1991.\n",
        "   >> Python is very popular because of following reason:\n",
        "   - 1. Hundreds of Libraries and Frameworks : Offers powerful   libraries like NumPy, Django, TensorFlow for faster development.\n",
        "    - 2. Free and open Source : Python is freely available for use, and its source code can be modified and shared.\n",
        "    - 3. Multi-platform accessibility: Works across all major OS like Windows, macOS, and Linux without code changes.\n",
        "    - 4. Interpreted Language :Python code runs line-by-line, which simplifies debugging and testing.\n",
        "    - 5. Python is a powerful tool for automating repetitive tasks.\n",
        "    - 6. Huge and Active Community: Millions of users contribute tutorials, tools, and support for learners and developers.\n",
        "    - 7. Can track type like String, Integer, Boolean and Float\n",
        "    - 8. Recommended by the top Coders as it is easy to use.\n",
        "    "
      ],
      "metadata": {
        "id": "mDzAzejAFSqa"
      }
    },
    {
      "cell_type": "markdown",
      "source": [
        "2. What is an interpreter in Python ?\n",
        "  >Interpreters are the computer program that will convert the source code or an high level language into intermediate code (machine level language). It is also called translator in programming and coding terminology. Interpreters executes each line of statements slowly. This process is called Interpretation.\n",
        "\n",
        "  >An interpreter in Python is a program that reads and executes code line-by-line rather than compiling the entire code at once.\n",
        "\n",
        "  >**Working of Interpreter**\n",
        "\n",
        "  >>source code ---> interpreter--->Executable Code----> next line -----> sourcecode.....\n",
        "  \n",
        "   >>You write Python code (.py file).\n",
        "\n",
        "   >>The Python interpreter reads one line at a time.\n",
        "\n",
        "   >>It translates that line into machine code and executes it immediately."
      ],
      "metadata": {
        "id": "EIYnnR2-JhmQ"
      }
    },
    {
      "cell_type": "markdown",
      "source": [
        "3.What are pre-defined keywords in Python ?\n",
        "  > Pre-defined keywords in Python are reserved words that have special meaning in the language. You cannot use them as variable names, function names, or identifiers.\n",
        "\n",
        "  > Key Points:\n",
        "  - 1.   Fixed meaning : \tKeywords perform specific roles in the syntax e.g., if, while, def.\n",
        "  - 2.   Case-sensitive :True is valid, but true is not.\n",
        "  - 3.   Cannot be redefined: You can’t use them for custom variable or function names.\n",
        "\n",
        "  >Examples : if, else, elif, while, for, break, continue, pass,\tdef, return, lambda, class"
      ],
      "metadata": {
        "id": "HwIM5uieLwqp"
      }
    },
    {
      "cell_type": "markdown",
      "source": [
        "4.Can keywords be used as variable names ?\n",
        "  >No, you cannot use keywords as variable names in Python\n",
        "\n",
        "  >Reason:\n",
        "    >Python keywords are reserved words that have special meanings in the language syntax. Using them as variable names would confuse the interpreter and stop proper coding."
      ],
      "metadata": {
        "id": "v43_iroNL3L-"
      }
    },
    {
      "cell_type": "markdown",
      "source": [
        "5. What is mutability in Python ?\n",
        "> Mutability in Python refers to whether an object’s value can be changed after it is created.\n",
        "   >>Example : list, dict, set"
      ],
      "metadata": {
        "id": "E0fT8DkgL6Ka"
      }
    },
    {
      "cell_type": "code",
      "source": [
        "#Example of Mutable objects\n",
        "Name = ['Devansh', 'Harsh', 'Laksh']\n",
        "Name.append('Vivek')\n",
        "print(Name)"
      ],
      "metadata": {
        "colab": {
          "base_uri": "https://localhost:8080/"
        },
        "id": "3Yllw97JMJkS",
        "outputId": "6b257b03-14e4-47e7-eb9d-d29ace1389f7"
      },
      "execution_count": null,
      "outputs": [
        {
          "output_type": "stream",
          "name": "stdout",
          "text": [
            "['Devansh', 'Harsh', 'Laksh', 'Vivek']\n"
          ]
        }
      ]
    },
    {
      "cell_type": "markdown",
      "source": [
        "6. Why are lists mutable, but tuples are immutable ?\n",
        "  >Lists Are Mutable:\n",
        "- 1. Designed for dynamic data:  Lists are made to store data that changes over time.\n",
        "\n",
        "- 2. Resizable in memory:  Python internally allocates flexible memory blocks for lists.\n",
        "\n",
        "- 3. Help in  item assignment:  You can modify, add, or remove elements after creation.\n",
        "\n",
        "- 4. Used in frequent updates: Ideal for tasks like sorting, appending, or modifying data\n",
        "\n",
        "  >Tuples are immutable:\n",
        "-  1. Fixed-size data structure: Once created, elements in a tuple cannot be changed.\n",
        "-  2. Memory optimization: Tuples take up less memory and are slightly faster than lists.\n",
        "-  3. Hashable: Because they don’t change, tuples can be used as dictionary keys or set elements.\n",
        "-  4. Ensures data safety: Immutability prevents accidental changes to critical data."
      ],
      "metadata": {
        "id": "g8XMqzFHMz3N"
      }
    },
    {
      "cell_type": "markdown",
      "source": [
        "7. What is the difference between “==” and “is” operators in Python ?\n",
        "  >\"==\" Operator (Equality) (Comparsion Operator)\n",
        "    1. Checks if values are equal\n",
        "    2. Compares the contents of two objects\n",
        "    3. Returns True if the values look the same\n",
        "\n",
        "  >\"is\" Operator (Identity Operator)\n",
        "  - 1.Checks if two variables point to the same object in memory.\n",
        "  - 2.Compares the identity (memory address), not the value\n",
        "  - 3.Returns True if both refer to the exact same object\n"
      ],
      "metadata": {
        "id": "9LJvaWGYNTOI"
      }
    },
    {
      "cell_type": "code",
      "source": [
        "# == Operator use\n",
        "Name1 = [\"Devansh Sidana\"]\n",
        "Name2 = [\"Devansh Sidana\"]\n",
        "print(Name1 == Name2) # same values\n",
        "\n",
        "# is oprator use\n",
        "Name1 = [\"Devansh Sidana\"]\n",
        "Name2 = [\"Devansh Sidana\"]\n",
        "print(Name1 is Name2) # different memory allocation"
      ],
      "metadata": {
        "colab": {
          "base_uri": "https://localhost:8080/"
        },
        "id": "m7B3NwDsNerL",
        "outputId": "78519e75-dca1-4961-c8ee-fccb048c4cf5"
      },
      "execution_count": null,
      "outputs": [
        {
          "output_type": "stream",
          "name": "stdout",
          "text": [
            "True\n",
            "False\n"
          ]
        }
      ]
    },
    {
      "cell_type": "markdown",
      "source": [
        "8.What are logical operators in Python ?\n",
        ">Logical operators are used to combine multiple conditions and return a boolean result (True or False).\n",
        "\n",
        ">>1.and:\n",
        "This operator returns True only if both conditions are True.\n",
        "\n",
        ">>2.or:\n",
        "This operator returns True if at least one of the conditions is True.\n",
        "\n",
        ">>3.not:\n",
        "This operator inverts the result. If the condition is True, it returns False, and vice versa."
      ],
      "metadata": {
        "id": "zFFQqb0BOUW2"
      }
    },
    {
      "cell_type": "code",
      "source": [
        "# Eample of and , or and not logical operator\n",
        "A = 15\n",
        "B = 25\n",
        "print(A>10 and B<20)#Here this condition is false as A>10 but the other other condition is not correct which is B<20 hence the reason it is false.\n",
        "print(A>10 or B<20)\n",
        "print(not(A==B))"
      ],
      "metadata": {
        "colab": {
          "base_uri": "https://localhost:8080/"
        },
        "id": "0alzJ1qBOXsU",
        "outputId": "44888cc1-7486-4827-f0f7-8ad71e95b34e"
      },
      "execution_count": null,
      "outputs": [
        {
          "output_type": "stream",
          "name": "stdout",
          "text": [
            "False\n",
            "True\n",
            "True\n"
          ]
        }
      ]
    },
    {
      "cell_type": "markdown",
      "source": [
        "9.What is type casting in Python ?\n",
        ">Type casting in Python means converting one data type into another manually using built-in functions.\n",
        "\n",
        ">It’s useful when you want to perform operations between different types, like combining a number and a string, or ensuring the right type in calculations.\n",
        "\n",
        "> Type of typecasting\n",
        ">>Implicit Type Casting (Automatic):\n",
        "\n",
        ">>>Python automatically converts one data type to another when it's safe to do so.\n",
        "\n",
        ">>>Happens without user intervention\n",
        "\n",
        ">>>Usually from lower to higher data types (e.g., int → float)\n",
        "\n",
        ">> Explicit Type Casting\n",
        "\n",
        ">>>You manually convert one type to another using Python’s built-in functions.\n",
        "\n",
        ">>>Common Functions:\n",
        "int(), float(), str(), bool(), list(), tuple(), set()\n"
      ],
      "metadata": {
        "id": "0oLkoGvxQIUx"
      }
    },
    {
      "cell_type": "code",
      "source": [
        "#Example of Type Casting\n",
        "#Implicit\n",
        "a = 100\n",
        "b = 300\n",
        "result = a + b\n",
        "print(result)\n",
        "\n",
        "#Explict\n",
        "D=\"PWSKILLS\"\n",
        "lst=list(D)\n",
        "print(lst)"
      ],
      "metadata": {
        "colab": {
          "base_uri": "https://localhost:8080/"
        },
        "id": "Efpu26IIQTBn",
        "outputId": "5f7935a2-3393-4cf0-e071-e4cc9df81004"
      },
      "execution_count": null,
      "outputs": [
        {
          "output_type": "stream",
          "name": "stdout",
          "text": [
            "400\n",
            "['P', 'W', 'S', 'K', 'I', 'L', 'L', 'S']\n"
          ]
        }
      ]
    },
    {
      "cell_type": "markdown",
      "source": [
        "10.What is the difference between implicit and explicit type casting?\n",
        ">Implicit Type Casting\n",
        ">>Done automatically by Python\n",
        "\n",
        ">>Happens when combining different data types\n",
        "\n",
        ">>Converts from lower to higher precision to avoid data loss\n",
        "\n",
        ">>No need for user involvement.\n",
        "\n",
        ">Explicit Type Casting\n",
        ">>Done manually by the programmer\n",
        "\n",
        ">>Uses built-in functions like int(), float(), str()\n",
        "\n",
        ">>Needed when Python can’t automatically convert, or you want full control"
      ],
      "metadata": {
        "id": "I24Z896LRCWR"
      }
    },
    {
      "cell_type": "markdown",
      "source": [
        "11.What is the purpose of conditional statements in Python ?\n",
        ">Conditional statements in Python are used to make decisions in a program. They allow the program to execute certain blocks of code only if specific conditions are met.\n",
        "\n",
        ">Purpose:\n",
        ">>Control the flow of execution based on conditions.\n",
        "\n",
        ">>Help programs make choices (like “if this happens, do that”).\n",
        "\n",
        ">>Enable dynamic behavior based on user input, data, or state.\n",
        "\n",
        ">>Avoid unnecessary execution of code blocks.\n",
        "\n",
        ">>Make programs smarter and interactive"
      ],
      "metadata": {
        "id": "OppAMnKgRExZ"
      }
    },
    {
      "cell_type": "markdown",
      "source": [
        "12.How does the elif statement work ?\n",
        ">The elif (short for else if) statement is used to check multiple conditions in a sequence after an initial if statement. It only executes its block if the previous conditions were False and its own condition is True.\n",
        "\n",
        ">Working :\n",
        "\n",
        ">>Python checks the \"if\" condition.\n",
        "\n",
        ">>If \"if\" is False, it checks the elif condition.\n",
        "\n",
        ">>If \"elif\" is True, it runs the elif block.\n",
        "\n",
        ">>If all conditions are False, it runs the \"else\" block (if provided)."
      ],
      "metadata": {
        "id": "4eZCl-bWRKA9"
      }
    },
    {
      "cell_type": "code",
      "source": [
        "#example of elif For a 5 Star Restraunt Bar\n",
        "age=int(input(\"Enter the age \"))\n",
        "if age<20:\n",
        "  print(\"You are not allowed to enter Bar\")\n",
        "elif age>=20 and age<25:\n",
        "  print(\"You are allowed to bar but can only have Beer\")\n",
        "elif age>25:\n",
        "  print(\"Hello You can have cocktail and mocktail both\")\n",
        "else:\n",
        "  print(\"Invalid age\")"
      ],
      "metadata": {
        "colab": {
          "base_uri": "https://localhost:8080/"
        },
        "id": "0QDF5gCsRPlx",
        "outputId": "1ad1317d-74c8-4335-ec80-851cb846b95d"
      },
      "execution_count": null,
      "outputs": [
        {
          "output_type": "stream",
          "name": "stdout",
          "text": [
            "Enter the age 24\n",
            "You are allowed to bar but can only have Beer\n"
          ]
        }
      ]
    },
    {
      "cell_type": "markdown",
      "source": [
        "13.What is the difference between for and while loops?\n",
        ">Python provides two main types of loops: for and while. Both are used to repeat code, but they differ in how and when they stop.\n",
        "\n",
        "> \"for\" Loop\n",
        ">>Used when you know beforehand how many times you want to iterate.\n",
        "\n",
        ">>It loops over a sequence like a list, string, tuple, or range.\n",
        "\n",
        ">>Automatically stops when the sequence ends.\n",
        "\n",
        ">\"While\" Loop\n",
        "\n",
        ">>Used when you don't know in advance how many times to loop.\n",
        "\n",
        ">>Keeps running as long as the condition is True.\n",
        "\n",
        ">>You must manually update variables to eventually stop the loop."
      ],
      "metadata": {
        "id": "U6Hc9brtTDgz"
      }
    },
    {
      "cell_type": "code",
      "source": [
        "print(\"Example of for loop\")\n",
        "for i in range(7):\n",
        "  print(i)\n",
        "print()\n",
        "print(\"Example of while loop\")\n",
        "count = 7\n",
        "while count > 0:\n",
        "    print(count)\n",
        "    count -=1"
      ],
      "metadata": {
        "colab": {
          "base_uri": "https://localhost:8080/"
        },
        "id": "_DwjxYdrTQnw",
        "outputId": "9b0e1b1e-c497-4c0b-9c12-eb2f61100b47"
      },
      "execution_count": null,
      "outputs": [
        {
          "output_type": "stream",
          "name": "stdout",
          "text": [
            "Example of for loop\n",
            "0\n",
            "1\n",
            "2\n",
            "3\n",
            "4\n",
            "5\n",
            "6\n",
            "\n",
            "Example of while loop\n",
            "7\n",
            "6\n",
            "5\n",
            "4\n",
            "3\n",
            "2\n",
            "1\n"
          ]
        }
      ]
    },
    {
      "cell_type": "markdown",
      "source": [
        "14.Describe a scenario where a while loop is more suitable than a for loop.\n",
        ">A while loop is more suitable when you don't know in advance how many times the loop will run — i.e., when the loop depends on a condition that changes during execution.\n",
        ">Example Scenario: User Login System\n",
        "\n",
        "\n",
        "```\n",
        "correct_password = \"hello123\"\n",
        "user_input = \"\"\n",
        "\n",
        "while user_input != correct_password:\n",
        "    user_input = input(\"Enter password: \")\n",
        "\n",
        "print(\"Access granted!\")\n",
        "\n",
        "```\n",
        ">Reason While suitable for this senario\n",
        ">>You don’t know how many attempts the user will need.\n",
        "\n",
        ">>The loop continues as long as the condition is not met.\n",
        "\n",
        ">>Using a for loop would force you to limit attempts artificially."
      ],
      "metadata": {
        "id": "ihNdlwA8UWcd"
      }
    },
    {
      "cell_type": "markdown",
      "source": [
        ">>>> **Practical Question**"
      ],
      "metadata": {
        "id": "iCFks2xxU5lW"
      }
    },
    {
      "cell_type": "markdown",
      "source": [
        "Question 1 - Write a python code to print \"Hello World\""
      ],
      "metadata": {
        "id": "6oyexlHclqMA"
      }
    },
    {
      "cell_type": "code",
      "source": [
        "#Write a python code to print \"Hello World\"\n",
        "print(\"Hello, World! \")"
      ],
      "metadata": {
        "colab": {
          "base_uri": "https://localhost:8080/"
        },
        "id": "_i863kxDWqnE",
        "outputId": "bfaafbdc-464f-4826-d72c-50d1c16458d7"
      },
      "execution_count": null,
      "outputs": [
        {
          "output_type": "stream",
          "name": "stdout",
          "text": [
            "Hello, World! \n"
          ]
        }
      ]
    },
    {
      "cell_type": "markdown",
      "source": [
        "Question 2 - Write a Python program that displays your name and age"
      ],
      "metadata": {
        "id": "KfDaLf5TleeJ"
      }
    },
    {
      "cell_type": "code",
      "source": [
        "#2 Write a Python program that displays your name and age\n",
        "name=\"Devansh Sidana\"\n",
        "age=21\n",
        "print(f\"My name is {name} and age is {age}\")"
      ],
      "metadata": {
        "colab": {
          "base_uri": "https://localhost:8080/"
        },
        "id": "3COz4v5vXAnM",
        "outputId": "3f5ae67c-5f70-49f5-8d9d-de94524e2b52"
      },
      "execution_count": null,
      "outputs": [
        {
          "output_type": "stream",
          "name": "stdout",
          "text": [
            "My name is Devansh Sidana and age is 21\n"
          ]
        }
      ]
    },
    {
      "cell_type": "markdown",
      "source": [
        "Question 3  - Write code to print all the pre-defined keywords in Python using the keyword library"
      ],
      "metadata": {
        "id": "Vb__tdmIlRu2"
      }
    },
    {
      "cell_type": "code",
      "source": [
        "#3.  Write code to print all the pre-defined keywords in Python using the keyword library\n",
        "import keyword\n",
        "print(keyword.kwlist)"
      ],
      "metadata": {
        "colab": {
          "base_uri": "https://localhost:8080/"
        },
        "id": "HZPpwPWoXP5l",
        "outputId": "5d0899c3-e363-4917-b355-5e65525006b4"
      },
      "execution_count": null,
      "outputs": [
        {
          "output_type": "stream",
          "name": "stdout",
          "text": [
            "['False', 'None', 'True', 'and', 'as', 'assert', 'async', 'await', 'break', 'class', 'continue', 'def', 'del', 'elif', 'else', 'except', 'finally', 'for', 'from', 'global', 'if', 'import', 'in', 'is', 'lambda', 'nonlocal', 'not', 'or', 'pass', 'raise', 'return', 'try', 'while', 'with', 'yield']\n"
          ]
        }
      ]
    },
    {
      "cell_type": "markdown",
      "source": [
        "Question 4 - Write a program that checks if a given word is a Python keyword."
      ],
      "metadata": {
        "id": "rf4CjJELlUXm"
      }
    },
    {
      "cell_type": "code",
      "source": [
        "#4. Write a program that checks if a given word is a Python keyword.\n",
        "import keyword\n",
        "word=input(\"Enter the word \")\n",
        "list_keywords=keyword.kwlist\n",
        "if word in list_keywords:\n",
        "  print(\"It is a Keyword\")\n",
        "else:\n",
        "  print(\"It is not a keyword\")"
      ],
      "metadata": {
        "colab": {
          "base_uri": "https://localhost:8080/"
        },
        "id": "wmiozHnWXVTD",
        "outputId": "633b22ca-b550-4613-9e93-e6da3ed4491c"
      },
      "execution_count": null,
      "outputs": [
        {
          "output_type": "stream",
          "name": "stdout",
          "text": [
            "Enter the word True\n",
            "It is a Keyword\n"
          ]
        }
      ]
    },
    {
      "cell_type": "markdown",
      "source": [
        "Question 5 - Create a list and tuple in Python, and demonstrate how attempting to change an element works differently for each."
      ],
      "metadata": {
        "id": "YHLgZ-aQlLn9"
      }
    },
    {
      "cell_type": "code",
      "source": [
        "#5. Create a list and tuple in Python, and demonstrate how attempting to change an element works differently for each.\n",
        "my_lst=[100,200,400,400]#list\n",
        "print(\"original list: \",my_lst)\n",
        "#changing an element in list\n",
        "my_lst[2]=300\n",
        "print(\"list after changing an element :\",my_lst)\n",
        "\n",
        "print()\n",
        "\n",
        "my_tuple=(100,200,400,400) #tuple\n",
        "print(\"original tuple: \",my_tuple)\n",
        "#changing an element in list\n",
        "\n",
        "my_tuple[2]=300\n",
        "print(\"Tuple after changing an element :\",my_tuple)\n",
        "#tuple command will not work for assigmnet as tuple dont support item assignment.\n"
      ],
      "metadata": {
        "colab": {
          "base_uri": "https://localhost:8080/",
          "height": 263
        },
        "id": "_10m8r_DXp_h",
        "outputId": "4c98d9c9-04eb-4a3f-a39a-3539dae70bd4"
      },
      "execution_count": null,
      "outputs": [
        {
          "output_type": "stream",
          "name": "stdout",
          "text": [
            "original list:  [100, 200, 400, 400]\n",
            "list after changing an element : [100, 200, 300, 400]\n",
            "\n",
            "original tuple:  (100, 200, 400, 400)\n"
          ]
        },
        {
          "output_type": "error",
          "ename": "TypeError",
          "evalue": "'tuple' object does not support item assignment",
          "traceback": [
            "\u001b[0;31m---------------------------------------------------------------------------\u001b[0m",
            "\u001b[0;31mTypeError\u001b[0m                                 Traceback (most recent call last)",
            "\u001b[0;32m/tmp/ipython-input-674051068.py\u001b[0m in \u001b[0;36m<cell line: 0>\u001b[0;34m()\u001b[0m\n\u001b[1;32m     12\u001b[0m \u001b[0;31m#changing an element in list\u001b[0m\u001b[0;34m\u001b[0m\u001b[0;34m\u001b[0m\u001b[0m\n\u001b[1;32m     13\u001b[0m \u001b[0;34m\u001b[0m\u001b[0m\n\u001b[0;32m---> 14\u001b[0;31m \u001b[0mmy_tuple\u001b[0m\u001b[0;34m[\u001b[0m\u001b[0;36m2\u001b[0m\u001b[0;34m]\u001b[0m\u001b[0;34m=\u001b[0m\u001b[0;36m300\u001b[0m\u001b[0;34m\u001b[0m\u001b[0;34m\u001b[0m\u001b[0m\n\u001b[0m\u001b[1;32m     15\u001b[0m \u001b[0mprint\u001b[0m\u001b[0;34m(\u001b[0m\u001b[0;34m\"Tuple after changing an element :\"\u001b[0m\u001b[0;34m,\u001b[0m\u001b[0mmy_tuple\u001b[0m\u001b[0;34m)\u001b[0m\u001b[0;34m\u001b[0m\u001b[0;34m\u001b[0m\u001b[0m\n",
            "\u001b[0;31mTypeError\u001b[0m: 'tuple' object does not support item assignment"
          ]
        }
      ]
    },
    {
      "cell_type": "markdown",
      "source": [
        "Question 6 -Write a function to demonstrate the behavior of mutable and immutable arguments."
      ],
      "metadata": {
        "id": "Pgc33gxKHUEi"
      }
    },
    {
      "cell_type": "code",
      "source": [
        "#6. Write a function to demonstrate the behavior of mutable and immutable arguments.\n",
        "def mutable():\n",
        "  my_lst=[100,200,400,400]#list\n",
        "  print(\"original list: \",my_lst)\n",
        "  #changing an element in list\n",
        "  my_lst[2]=300\n",
        "  print(\"list after changing an element :\",my_lst)\n",
        "def immutable():\n",
        "  my_tuple=(100,200,400,400) #tuple\n",
        "  print(\"original tuple: \",my_tuple)\n",
        "  #changing an element in list\n",
        "  try:\n",
        "    my_tuple[2]=300\n",
        "    print(\"Tuple after changing an element :\",my_tuple)\n",
        "  except:\n",
        "    print(\"Tuple is Immutable\")\n",
        "\n",
        "mutable()\n",
        "immutable()"
      ],
      "metadata": {
        "colab": {
          "base_uri": "https://localhost:8080/"
        },
        "id": "Nf8pcCFaHgJV",
        "outputId": "d211dd75-9fa8-4634-8a95-93dc85e6bf36"
      },
      "execution_count": null,
      "outputs": [
        {
          "output_type": "stream",
          "name": "stdout",
          "text": [
            "original list:  [100, 200, 400, 400]\n",
            "list after changing an element : [100, 200, 300, 400]\n",
            "original tuple:  (100, 200, 400, 400)\n",
            "Tuple is Immutable\n"
          ]
        }
      ]
    },
    {
      "cell_type": "markdown",
      "source": [
        "Question 7 - Write a program that performs basic arithmetic operations on two user-input numbers."
      ],
      "metadata": {
        "id": "4v_v0uuYk8fM"
      }
    },
    {
      "cell_type": "code",
      "source": [
        "#7. Write a program that performs basic arithmetic operations on two user-input numbers.\n",
        "num1=int(input(\"Enter the first number \"))\n",
        "num2=int(input(\"Enter the second number \"))\n",
        "print(\"Addition of two number :\",num1+num2)\n",
        "print(\"Multiplication of two number :\",num1*num2)\n",
        "print(\"modulous of two number :\",num1%num2)\n",
        "print(\"Floor Division of two number :\",num1//num2)\n",
        "print(\"Exponential of two number :\",num1/num2)\n",
        "print(\"Subtraction of two number :\",num1-num2)\n",
        "print(\"Division of two number :\",num1/num2)"
      ],
      "metadata": {
        "id": "ltQNB46YZPGz",
        "colab": {
          "base_uri": "https://localhost:8080/"
        },
        "outputId": "522d6c39-1c41-4323-81f4-7d7ffdfe65d6"
      },
      "execution_count": null,
      "outputs": [
        {
          "output_type": "stream",
          "name": "stdout",
          "text": [
            "Enter the first number 15\n",
            "Enter the second number 3\n",
            "Addition of two number : 18\n",
            "Multiplication of two number : 45\n",
            "modulous of two number : 0\n",
            "Floor Division of two number : 5\n",
            "Exponential of two number : 5.0\n",
            "Subtraction of two number : 12\n",
            "Division of two number : 5.0\n"
          ]
        }
      ]
    },
    {
      "cell_type": "markdown",
      "source": [
        "Question 8 -  Write a program to demonstrate the use of logical operators."
      ],
      "metadata": {
        "id": "DlEXCCsuk0Cf"
      }
    },
    {
      "cell_type": "code",
      "source": [
        "#8.  Write a program to demonstrate the use of logical operators.\n",
        "num1=True\n",
        "num2=False\n",
        "print(\"logical Operator and :\",num1 and num2)\n",
        "print(\"logical Operator or :\",num1 or num2)\n",
        "print(\"logical Operator not :\",not num1 )"
      ],
      "metadata": {
        "colab": {
          "base_uri": "https://localhost:8080/"
        },
        "id": "giP4AffAJ_Q_",
        "outputId": "bf2370d5-ca0a-4aed-f343-a1e28f13c257"
      },
      "execution_count": null,
      "outputs": [
        {
          "output_type": "stream",
          "name": "stdout",
          "text": [
            "logical Operator and : False\n",
            "logical Operator or : True\n",
            "logical Operator not : False\n"
          ]
        }
      ]
    },
    {
      "cell_type": "markdown",
      "source": [
        "Question 9 -Write a Python program to convert user input from string to integer, float, and boolean types."
      ],
      "metadata": {
        "id": "4mXg-V30kbyX"
      }
    },
    {
      "cell_type": "code",
      "source": [
        "#9.  Write a Python program to convert user input from string to integer, float, and boolean types.\n",
        "user_input=input(\"Enter Anything in string : \")\n",
        "print(\"User_input :\",user_input)\n",
        "if user_input.isdigit():\n",
        "  #String --> integer\n",
        "  print(\"User input in integer:\",int(user_input))\n",
        "  #String --> float\n",
        "  print(\"User input in float:\",float(user_input))\n",
        "  #String --> boolean\n",
        "  print(\"User input in boolean:\",bool(user_input))\n",
        "else:\n",
        "  print(\"Invalid Input , Enter a digit\")"
      ],
      "metadata": {
        "colab": {
          "base_uri": "https://localhost:8080/"
        },
        "id": "Jlg7KxV8K52V",
        "outputId": "19a08e2c-fe54-4f27-e8e1-7121b55268fc"
      },
      "execution_count": null,
      "outputs": [
        {
          "output_type": "stream",
          "name": "stdout",
          "text": [
            "Enter Anything in string : 200\n",
            "User_input : 200\n",
            "User input in integer: 200\n",
            "User input in float: 200.0\n",
            "User input in boolean: True\n"
          ]
        }
      ]
    },
    {
      "cell_type": "markdown",
      "source": [
        "Question 10 - Write code to demonstrate type casting with list elements."
      ],
      "metadata": {
        "id": "nT5mP9wWkVjz"
      }
    },
    {
      "cell_type": "code",
      "source": [
        "#10. Write code to demonstrate type casting with list elements.\n",
        "\n",
        "#lst1 consist of float and integer\n",
        "def implicit(lst1):\n",
        "  total_sum=sum(lst1)\n",
        "  print(total_sum)\n",
        "\n",
        "def explicit(lst2):\n",
        "  num=[int(i) for i in lst2]\n",
        "  total_sum2=sum(num)\n",
        "  print(total_sum2)\n",
        "\n",
        "#lst2 consist of string and integer\n",
        "lst1=[1,2,3.3,4.5,77.0]\n",
        "lst2=['1','2','3','5','5']\n",
        "implicit(lst1)\n",
        "explicit(lst2)"
      ],
      "metadata": {
        "colab": {
          "base_uri": "https://localhost:8080/"
        },
        "id": "-RNaSbSlNQec",
        "outputId": "b352781a-46a0-4228-f7f6-b200a10d9e54"
      },
      "execution_count": null,
      "outputs": [
        {
          "output_type": "stream",
          "name": "stdout",
          "text": [
            "87.8\n",
            "16\n"
          ]
        }
      ]
    },
    {
      "cell_type": "markdown",
      "source": [
        "Question 11 - Write a program that checks if a number is positive, negative, or zero."
      ],
      "metadata": {
        "id": "TozcXcVTkOus"
      }
    },
    {
      "cell_type": "code",
      "source": [
        "#11.Write a program that checks if a number is positive, negative, or zero.\n",
        "num=int(input(\"Enter the number \"))\n",
        "if num==0:\n",
        "  print(\"It is zero\")\n",
        "elif num>0:\n",
        "  print(\"It is a positive number\")\n",
        "else:\n",
        "  print(\"It is a negative number\")"
      ],
      "metadata": {
        "colab": {
          "base_uri": "https://localhost:8080/"
        },
        "id": "QzRp1E-iPxyh",
        "outputId": "3f9041c0-7b6a-4df0-97d9-5356b458cce3"
      },
      "execution_count": null,
      "outputs": [
        {
          "output_type": "stream",
          "name": "stdout",
          "text": [
            "Enter the number 12\n",
            "It is a positive number\n"
          ]
        }
      ]
    },
    {
      "cell_type": "markdown",
      "source": [
        "Question 12 - Write a for loop to print numbers from 1 to 10."
      ],
      "metadata": {
        "id": "4NG8uiE1kDKZ"
      }
    },
    {
      "cell_type": "code",
      "source": [
        "#12. . Write a for loop to print numbers from 1 to 10.\n",
        "for i in range(1,11):\n",
        "  print(i)"
      ],
      "metadata": {
        "colab": {
          "base_uri": "https://localhost:8080/"
        },
        "id": "qk2F6znjQDb4",
        "outputId": "3fb1c18e-0819-4d15-a8f4-2629608cc911"
      },
      "execution_count": null,
      "outputs": [
        {
          "output_type": "stream",
          "name": "stdout",
          "text": [
            "1\n",
            "2\n",
            "3\n",
            "4\n",
            "5\n",
            "6\n",
            "7\n",
            "8\n",
            "9\n",
            "10\n"
          ]
        }
      ]
    },
    {
      "cell_type": "markdown",
      "source": [
        "Question 13 - Write a Python program to find the sum of all even numbers between 1 and 50."
      ],
      "metadata": {
        "id": "TIEGwuwej3KH"
      }
    },
    {
      "cell_type": "code",
      "source": [
        "#13.  Write a Python program to find the sum of all even numbers between 1 and 50.\n",
        "sum=0\n",
        "for i in range(2,51,2):\n",
        "  sum+=i\n",
        "print(sum)"
      ],
      "metadata": {
        "colab": {
          "base_uri": "https://localhost:8080/"
        },
        "id": "YJipawtEQNuV",
        "outputId": "74d83751-6dce-48a1-8ab4-b6065486a3bc"
      },
      "execution_count": null,
      "outputs": [
        {
          "output_type": "stream",
          "name": "stdout",
          "text": [
            "650\n"
          ]
        }
      ]
    },
    {
      "cell_type": "markdown",
      "source": [
        "Question 14 - Write a program to reverse a string using a while loop.\n"
      ],
      "metadata": {
        "id": "mgMbJh-vjosW"
      }
    },
    {
      "cell_type": "code",
      "source": [
        "#14. Write a program to reverse a string using a while loop.\n",
        "string=input(\"Enter the string \")\n",
        "i=len(string)-1\n",
        "while i>=0:\n",
        "  print(string[i],end=\"\")\n",
        "  i-=1"
      ],
      "metadata": {
        "colab": {
          "base_uri": "https://localhost:8080/"
        },
        "id": "WUBQH5wIQl66",
        "outputId": "9998ae1f-63a1-4e1b-faa4-5eb5de7e7c02"
      },
      "execution_count": null,
      "outputs": [
        {
          "output_type": "stream",
          "name": "stdout",
          "text": [
            "Enter the string HELLO WORLD\n",
            "DLROW OLLEH"
          ]
        }
      ]
    },
    {
      "cell_type": "markdown",
      "source": [
        "Question 15 - Write a Python program to calculate the factorial of a number provided by the user using a while loop"
      ],
      "metadata": {
        "id": "N-y3KSMEjWI-"
      }
    },
    {
      "cell_type": "code",
      "source": [
        "#15.Write a Python program to calculate the factorial of a number provided by the user using a while loop.\n",
        "num=int(input(\"Enter the number :\"))\n",
        "i=1\n",
        "fact=1\n",
        "while i<=num:\n",
        "  fact=fact*i\n",
        "  i=i+1\n",
        "print(f\"factorial of {num} is {fact}\")"
      ],
      "metadata": {
        "colab": {
          "base_uri": "https://localhost:8080/"
        },
        "id": "Qo9rMp4gRSSp",
        "outputId": "d4d8c179-fcaa-421a-cdcd-62aabaceed22"
      },
      "execution_count": null,
      "outputs": [
        {
          "output_type": "stream",
          "name": "stdout",
          "text": [
            "Enter the number :5\n",
            "factorial of 5 is 120\n"
          ]
        }
      ]
    },
    {
      "cell_type": "markdown",
      "source": [
        "#Thats All, Thankyou"
      ],
      "metadata": {
        "id": "CqQq4CanXEkV"
      }
    }
  ]
}